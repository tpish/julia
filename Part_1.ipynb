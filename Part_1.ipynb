{
 "cells": [
  {
   "cell_type": "markdown",
   "metadata": {},
   "source": [
    "# Part 1"
   ]
  },
  {
   "cell_type": "markdown",
   "metadata": {},
   "source": [
    "## An Introductory example"
   ]
  },
  {
   "cell_type": "markdown",
   "metadata": {},
   "source": [
    "Source: https://lectures.quantecon.org/jl/julia_by_example.html\n",
    "\n",
    "Iniciamos com um plot bestinha de ruído branco:"
   ]
  },
  {
   "cell_type": "code",
   "execution_count": 12,
   "metadata": {
    "collapsed": false
   },
   "outputs": [
    {
     "data": {
      "text/html": [
       "<script src=\"/home/juser/.julia/v0.6/Plots/src/backends/../../deps/plotly-latest.min.js\"></script>    <div id=\"bdb14929-8b79-490e-9c8f-029c3d7b8840\" style=\"width:600px;height:400px;\"></div>\n",
       "    <script>\n",
       "    PLOT = document.getElementById('bdb14929-8b79-490e-9c8f-029c3d7b8840');\n",
       "    Plotly.plot(PLOT, [{\"showlegend\":true,\"mode\":\"lines\",\"xaxis\":\"x\",\"colorbar\":{\"title\":\"\"},\"line\":{\"color\":\"rgba(0, 0, 255, 1.000)\",\"shape\":\"linear\",\"dash\":\"solid\",\"width\":1},\"y\":[-0.28960344551141887,0.3568130627827058,-1.0573356367504567,-0.1487240029291257,-0.4747325638875088,0.44927109939830884,0.9105689799387136,0.91073504967945,-0.0989941472585088,-1.0322759940951287,1.5122328588841243,1.3068354641375612,1.0182563885453424,-0.19495871471789888,-0.6449757685817245,-1.7350715513996118,1.0485139247210578,0.17956093910394189,0.5196470592403472,-0.07018064030245476,-0.6076350552704005,-0.19872705751203035,-0.35647250663827523,-1.3119798943056438,1.6771539636302637,-0.4369845232284231,-0.20346721926794165,0.556309766771608,0.3445053010165306,0.9225206300400024,-1.8539729976027548,-0.6377800788779943,-1.1746454970331959,-0.5604366773524658,-0.16046796757028628,0.14239079465768056,-0.7170206481886473,1.7280794255111587,-0.054457853251188626,0.750046767636505,0.1782433475747513,-0.6764048073536791,0.07881260676371998,0.3481676373188557,1.1752643349454612,0.8606447658728357,-0.33081541437512135,0.013031190025174316,1.3245438515830725,0.4569292976372428,0.3987670727991613,0.03678662957828259,0.22499490944109776,-1.2584409927029925,-0.5159098022524442,1.0104442958427173,-0.11406566956855627,0.3633456363572653,-0.17024278431206616,-1.5088431532762456,1.7038946645508244,0.8990092441418187,0.19643160636071222,0.2942911333426649,0.8039065924630792,2.2717558106010154,0.040349116210375506,0.6551803314370809,-0.7640325385725869,-0.2873641244930413,0.06806076209967378,1.2369535955313997,-0.6851824626504924,-1.0043327832404088,0.05983103083798343,-0.5179474497521681,-1.873950898751159,-0.13158095272745607,1.6826612464557449,0.591704493313155,0.40726091846366685,-0.550382301599402,0.784703942413831,0.5068345013929402,1.1674881211488528,0.09310790991644707,-0.8081794560898772,-0.5355229275398714,-0.021658727425162512,-0.041976525736421064,-1.25998985753859,-2.032500699157762,-0.8762294935875518,-1.0842696287630094,-0.5616854274204117,0.13576547237714587,0.6093435419089748,2.802973902357937,-1.0665301588353702,-0.5765186940310436],\"type\":\"scatter\",\"name\":\"y1\",\"yaxis\":\"y\",\"x\":[1,2,3,4,5,6,7,8,9,10,11,12,13,14,15,16,17,18,19,20,21,22,23,24,25,26,27,28,29,30,31,32,33,34,35,36,37,38,39,40,41,42,43,44,45,46,47,48,49,50,51,52,53,54,55,56,57,58,59,60,61,62,63,64,65,66,67,68,69,70,71,72,73,74,75,76,77,78,79,80,81,82,83,84,85,86,87,88,89,90,91,92,93,94,95,96,97,98,99,100]}], {\"showlegend\":true,\"xaxis\":{\"tickvals\":[25.0,50.0,75.0,100.0],\"ticks\":\"inside\",\"tickmode\":\"array\",\"domain\":[0.03619130941965587,0.9934383202099738],\"linecolor\":\"rgba(0, 0, 0, 1.000)\",\"showgrid\":true,\"title\":\"\",\"tickangle\":0,\"titlefont\":{\"color\":\"rgba(0, 0, 0, 1.000)\",\"family\":\"sans-serif\",\"size\":15},\"tickcolor\":\"rgba(0, 0, 0, 1.000)\",\"ticktext\":[\"25\",\"50\",\"75\",\"100\"],\"zeroline\":false,\"type\":\"-\",\"tickfont\":{\"color\":\"rgba(0, 0, 0, 1.000)\",\"family\":\"sans-serif\",\"size\":11},\"anchor\":\"y\"},\"paper_bgcolor\":\"rgba(255, 255, 255, 1.000)\",\"annotations\":[],\"height\":400,\"margin\":{\"l\":0,\"b\":20,\"r\":0,\"t\":20},\"plot_bgcolor\":\"rgba(255, 255, 255, 1.000)\",\"yaxis\":{\"tickvals\":[-2.0,-1.0,0.0,1.0,2.0],\"ticks\":\"inside\",\"tickmode\":\"array\",\"domain\":[0.03762029746281716,0.9901574803149606],\"linecolor\":\"rgba(0, 0, 0, 1.000)\",\"showgrid\":true,\"title\":\"\",\"tickangle\":0,\"titlefont\":{\"color\":\"rgba(0, 0, 0, 1.000)\",\"family\":\"sans-serif\",\"size\":15},\"tickcolor\":\"rgba(0, 0, 0, 1.000)\",\"ticktext\":[\"-2\",\"-1\",\"0\",\"1\",\"2\"],\"zeroline\":false,\"type\":\"-\",\"tickfont\":{\"color\":\"rgba(0, 0, 0, 1.000)\",\"family\":\"sans-serif\",\"size\":11},\"anchor\":\"x\"},\"legend\":{\"bordercolor\":\"rgba(0, 0, 0, 1.000)\",\"bgcolor\":\"rgba(255, 255, 255, 1.000)\",\"font\":{\"color\":\"rgba(0, 0, 0, 1.000)\",\"family\":\"sans-serif\",\"size\":11},\"y\":1.0,\"x\":1.0},\"width\":600});\n",
       "    </script>\n"
      ]
     },
     "execution_count": 12,
     "metadata": {},
     "output_type": "execute_result"
    }
   ],
   "source": [
    "#using Plots #equivalente ao library(...) do R, tem o mesmo efeito de colocar tudão no global scope. Poderia ter usado import Plots: plot para apenas a função como Python\n",
    "import Plots: plot\n",
    "ts_length = 100\n",
    "epsilon_values = randn(ts_length)\n",
    "plot(epsilon_values, color = \"blue\")"
   ]
  },
  {
   "cell_type": "markdown",
   "metadata": {},
   "source": [
    "O vetor de ruídos aleatórios acima cria um vetor."
   ]
  },
  {
   "cell_type": "code",
   "execution_count": 13,
   "metadata": {
    "collapsed": false
   },
   "outputs": [
    {
     "data": {
      "text/plain": [
       "Array{Float64,1}"
      ]
     },
     "execution_count": 13,
     "metadata": {},
     "output_type": "execute_result"
    }
   ],
   "source": [
    "typeof(epsilon_values)"
   ]
  },
  {
   "cell_type": "markdown",
   "metadata": {},
   "source": [
    "Que é um vetorzão dos valores aleatórios "
   ]
  },
  {
   "cell_type": "code",
   "execution_count": 14,
   "metadata": {
    "collapsed": false,
    "scrolled": true
   },
   "outputs": [
    {
     "data": {
      "text/plain": [
       "100-element Array{Float64,1}:\n",
       " -0.289603 \n",
       "  0.356813 \n",
       " -1.05734  \n",
       " -0.148724 \n",
       " -0.474733 \n",
       "  0.449271 \n",
       "  0.910569 \n",
       "  0.910735 \n",
       " -0.0989941\n",
       " -1.03228  \n",
       "  1.51223  \n",
       "  1.30684  \n",
       "  1.01826  \n",
       "  ⋮        \n",
       " -0.0216587\n",
       " -0.0419765\n",
       " -1.25999  \n",
       " -2.0325   \n",
       " -0.876229 \n",
       " -1.08427  \n",
       " -0.561685 \n",
       "  0.135765 \n",
       "  0.609344 \n",
       "  2.80297  \n",
       " -1.06653  \n",
       " -0.576519 "
      ]
     },
     "execution_count": 14,
     "metadata": {},
     "output_type": "execute_result"
    }
   ],
   "source": [
    "epsilon_values"
   ]
  },
  {
   "cell_type": "markdown",
   "metadata": {},
   "source": [
    "Assim como R, podemos colocar qualquer coisa em um vetor"
   ]
  },
  {
   "cell_type": "code",
   "execution_count": 15,
   "metadata": {
    "collapsed": false
   },
   "outputs": [
    {
     "data": {
      "text/plain": [
       "Bool"
      ]
     },
     "execution_count": 15,
     "metadata": {},
     "output_type": "execute_result"
    }
   ],
   "source": [
    "x = [10,\"etc\",false]\n",
    "typeof(x[1]) #Indexing como no R\n",
    "typeof(x[2])\n",
    "typeof(x[3])"
   ]
  },
  {
   "cell_type": "markdown",
   "metadata": {},
   "source": [
    "Funções com ! modificam (ou 'mutam' no léxico aqui) o argumento. Então"
   ]
  },
  {
   "cell_type": "code",
   "execution_count": 16,
   "metadata": {
    "collapsed": false
   },
   "outputs": [
    {
     "data": {
      "text/plain": [
       "2-element Array{Any,1}:\n",
       " 10     \n",
       "   \"etc\""
      ]
     },
     "execution_count": 16,
     "metadata": {},
     "output_type": "execute_result"
    }
   ],
   "source": [
    "pop!(x)\n",
    "x"
   ]
  },
  {
   "cell_type": "markdown",
   "metadata": {},
   "source": [
    "Da mesma forma que `pop!`, a função `push!` modifica o argumento, mas faz o inverso e adiciona um elemento ao final desse array"
   ]
  },
  {
   "cell_type": "code",
   "execution_count": 17,
   "metadata": {
    "collapsed": false
   },
   "outputs": [
    {
     "data": {
      "text/plain": [
       "3-element Array{Any,1}:\n",
       " 10     \n",
       "   \"etc\"\n",
       "   \"Oi\" "
      ]
     },
     "execution_count": 17,
     "metadata": {},
     "output_type": "execute_result"
    }
   ],
   "source": [
    "push!(x, \"Oi\")\n",
    "x"
   ]
  },
  {
   "cell_type": "markdown",
   "metadata": {},
   "source": [
    "Os controles de fluxo apresentam sintaxes bem próximos aos de python. Por exemplo, os `for` loops"
   ]
  },
  {
   "cell_type": "code",
   "execution_count": 21,
   "metadata": {
    "collapsed": false
   },
   "outputs": [
    {
     "data": {
      "text/html": [
       "<script src=\"/home/juser/.julia/v0.6/Plots/src/backends/../../deps/plotly-latest.min.js\"></script>    <div id=\"c93d90c5-2ec5-4624-9f7f-9d3c10fa8673\" style=\"width:600px;height:400px;\"></div>\n",
       "    <script>\n",
       "    PLOT = document.getElementById('c93d90c5-2ec5-4624-9f7f-9d3c10fa8673');\n",
       "    Plotly.plot(PLOT, [{\"showlegend\":true,\"mode\":\"lines\",\"xaxis\":\"x\",\"colorbar\":{\"title\":\"\"},\"line\":{\"color\":\"rgba(0, 0, 255, 1.000)\",\"shape\":\"linear\",\"dash\":\"solid\",\"width\":1},\"y\":[-0.24489222980273534,1.3016124969088207,1.3497379669946314,1.2093240434554777,-1.1104453913904626,-1.5265922450149836,-1.6758699104855626,-0.1694335612067943,-2.2503821639994634,-1.7281845358564467,-0.21693901329300133,-1.071283485581217,0.601377063896005,1.0799368685318964,-0.01601848408804819,-0.0987261878181771,1.1780302582370341,-1.96626803253693,-1.7839391632944366,-0.032795758992702345,-0.06446997538900485,-1.1500407414376301,-0.11206540155343063,-0.3023242835884141,2.0249894197142924,0.8913083373090211,-0.046166036726310325,1.0611807802584303,1.2335238910256514,1.4442105887689787,-1.3487731985781526,-1.025016037568513,-0.816768194102416,0.43397978142260524,1.941948396305916,-1.819065434317647,0.7327929664108872,-1.1943426482951276,-0.5063391630243114,-0.5303102830536711,-1.3055683932166968,-0.6319049848219956,-1.5672671964459928,1.2398586798674194,1.4283407504066232,-0.6790897956996257,-0.6126776099799552,1.1260398121838522,-1.067262253231234,0.2180812948982792,0.18993446360555272,0.6057232523102404,-0.6081379365934552,0.9825348070204748,0.44344631201083035,1.5880161845746348,-0.9130461983284358,0.47744344372088815,0.7433003101879508,0.404888447672381,-0.1955787208803137,-1.1931695038636312,-1.0117485092968126,1.225029567007689,-0.8244254164590166,-0.6096297059584292,-1.7619706882784232,-0.011304318849043017,-0.4455109163482595,-1.658989525220674,-1.342622617803993,0.9797794840425613,1.2719400797123943,-0.09172293781770191,1.2080477878300924,0.7263333873411006,-0.7425996335331437,-0.41037664363451404,0.6184519859123208,0.031415660864922264,0.6415859414339161,-0.6895846144454448,1.227496281864972,-1.1915385322346708,0.684285384095194,-0.8935259568114947,-1.1157784014525862,-0.9275984155708699,-0.16530903203827407,-0.31395333479062526,-0.09866573390014369,1.578893889812509,-0.19228752607077979,-0.2951286621865065,0.06932897084243425,1.2525220011494331,1.7370091780564068,0.8194494466147841,-0.5804545840606726,0.6891791691635409],\"type\":\"scatter\",\"name\":\"y1\",\"yaxis\":\"y\",\"x\":[1,2,3,4,5,6,7,8,9,10,11,12,13,14,15,16,17,18,19,20,21,22,23,24,25,26,27,28,29,30,31,32,33,34,35,36,37,38,39,40,41,42,43,44,45,46,47,48,49,50,51,52,53,54,55,56,57,58,59,60,61,62,63,64,65,66,67,68,69,70,71,72,73,74,75,76,77,78,79,80,81,82,83,84,85,86,87,88,89,90,91,92,93,94,95,96,97,98,99,100]}], {\"showlegend\":true,\"xaxis\":{\"tickvals\":[25.0,50.0,75.0,100.0],\"ticks\":\"inside\",\"tickmode\":\"array\",\"domain\":[0.03619130941965587,0.9934383202099738],\"linecolor\":\"rgba(0, 0, 0, 1.000)\",\"showgrid\":true,\"title\":\"\",\"tickangle\":0,\"titlefont\":{\"color\":\"rgba(0, 0, 0, 1.000)\",\"family\":\"sans-serif\",\"size\":15},\"tickcolor\":\"rgba(0, 0, 0, 1.000)\",\"ticktext\":[\"25\",\"50\",\"75\",\"100\"],\"zeroline\":false,\"type\":\"-\",\"tickfont\":{\"color\":\"rgba(0, 0, 0, 1.000)\",\"family\":\"sans-serif\",\"size\":11},\"anchor\":\"y\"},\"paper_bgcolor\":\"rgba(255, 255, 255, 1.000)\",\"annotations\":[],\"height\":400,\"margin\":{\"l\":0,\"b\":20,\"r\":0,\"t\":20},\"plot_bgcolor\":\"rgba(255, 255, 255, 1.000)\",\"yaxis\":{\"tickvals\":[-2.0,-1.0,0.0,1.0,2.0],\"ticks\":\"inside\",\"tickmode\":\"array\",\"domain\":[0.03762029746281716,0.9901574803149606],\"linecolor\":\"rgba(0, 0, 0, 1.000)\",\"showgrid\":true,\"title\":\"\",\"tickangle\":0,\"titlefont\":{\"color\":\"rgba(0, 0, 0, 1.000)\",\"family\":\"sans-serif\",\"size\":15},\"tickcolor\":\"rgba(0, 0, 0, 1.000)\",\"ticktext\":[\"-2\",\"-1\",\"0\",\"1\",\"2\"],\"zeroline\":false,\"type\":\"-\",\"tickfont\":{\"color\":\"rgba(0, 0, 0, 1.000)\",\"family\":\"sans-serif\",\"size\":11},\"anchor\":\"x\"},\"legend\":{\"bordercolor\":\"rgba(0, 0, 0, 1.000)\",\"bgcolor\":\"rgba(255, 255, 255, 1.000)\",\"font\":{\"color\":\"rgba(0, 0, 0, 1.000)\",\"family\":\"sans-serif\",\"size\":11},\"y\":1.0,\"x\":1.0},\"width\":600});\n",
       "    </script>\n"
      ]
     },
     "execution_count": 21,
     "metadata": {},
     "output_type": "execute_result"
    }
   ],
   "source": [
    "ts_length = 100\n",
    "epsilon_values = Array{Float64}(ts_length)\n",
    "for i in 1:ts_length\n",
    "    epsilon_values[i] = randn()\n",
    "end\n",
    "plot(epsilon_values,color = \"blue\")"
   ]
  },
  {
   "cell_type": "markdown",
   "metadata": {},
   "source": [
    "Assim como R e Python, podemos iterar sobre iteradores, vetores servindo como indices"
   ]
  },
  {
   "cell_type": "code",
   "execution_count": 23,
   "metadata": {
    "collapsed": false
   },
   "outputs": [
    {
     "name": "stdout",
     "output_type": "stream",
     "text": [
      "Essa é a primeira palavra\n",
      "Essa é a segunda palavra\n"
     ]
    }
   ],
   "source": [
    "palavras = [\"primeira\",\"segunda\"]\n",
    "for pala in palavras\n",
    "    println(\"Essa é a $pala palavra\")\n",
    "end"
   ]
  },
  {
   "cell_type": "markdown",
   "metadata": {},
   "source": [
    "Apesar de ver pouco uso pra mim, posso usar um while também"
   ]
  },
  {
   "cell_type": "code",
   "execution_count": 24,
   "metadata": {
    "collapsed": false
   },
   "outputs": [
    {
     "data": {
      "text/html": [
       "<script src=\"/home/juser/.julia/v0.6/Plots/src/backends/../../deps/plotly-latest.min.js\"></script>    <div id=\"cfca3e8e-5994-4b16-b75e-110539c5bac8\" style=\"width:600px;height:400px;\"></div>\n",
       "    <script>\n",
       "    PLOT = document.getElementById('cfca3e8e-5994-4b16-b75e-110539c5bac8');\n",
       "    Plotly.plot(PLOT, [{\"showlegend\":true,\"mode\":\"lines\",\"xaxis\":\"x\",\"colorbar\":{\"title\":\"\"},\"line\":{\"color\":\"rgba(0, 0, 255, 1.000)\",\"shape\":\"linear\",\"dash\":\"solid\",\"width\":1},\"y\":[-0.9005492851836273,-0.7729849414610687,-0.24690100655514832,1.3565176136529424,0.12637216662134088,-0.9493214305319149,0.8323880468100728,-0.7463634329626508,0.024747447500517387,-0.1711437623396796,0.6559281448048322,-1.3212681229858736,0.07294878590323207,-1.0258008500990752,-1.0163848409259324,1.508223830565885,0.3152645010316674,0.17702563361113868,1.6253372338328242,-1.0699370682305867,0.276622559005471,-0.694695426696526,2.185435651099107,-0.33282696292070035,-0.9510250775566806,0.2867465848279693,1.3511042524723562,0.6614144775016769,-1.867865712514743,0.7748116369710684,-0.17128275770860205,-1.0791128126656793,-0.04522183817317639,0.08295270691427362,-1.776932916078191,0.03681845948005237,0.6834464501932386,-0.30524919206643264,-0.6864005835309062,0.0010581871320633526,-2.153261507836446,1.1641717513488912,-1.4281988305200688,1.2678737292611169,-0.002728734377270669,0.15468243938772952,0.13012102782437904,-0.21773350122121365,-0.6615179561672949,1.384057854992092,0.9533358815347998,0.9580938785300803,-1.8012774678412402,-0.2603065241456333,-0.7798275417817995,0.5650056519458428,1.3106752724090336,0.5107396588170581,0.229287938564754,-0.06069278748141809,-0.5622182610783971,-0.6708104276850381,0.9439065151307513,0.02435313063026022,-0.1752707554898615,-1.6212816979202582,-0.9595160852345692,-1.858846360804261,-0.21808705634333933,-0.04428594269281348,0.9989891858835366,0.31936863769141577,-2.250012568646154,-0.8181643310195696,0.36195287151633176,-0.47548813663696293,-0.9967870746685311,0.3393511277931274,0.6359555661657899,-1.5982544856089484,0.4522447311247144,0.40466156128236264,-1.574280768809495,-0.5722077149351257,-1.649605762607424,-1.7008186935120326,0.7738303638477804,2.123676859075553,1.6244908354072207,0.27214541191497904,-0.2103930637165946,-1.1361179466711926,-0.8950461265658216,0.32814713334607204,1.7165679104778746,-0.3998980943859486,-0.6954481157032103,0.32945104239556033,1.254631727551262,-1.821004490945375],\"type\":\"scatter\",\"name\":\"y1\",\"yaxis\":\"y\",\"x\":[1,2,3,4,5,6,7,8,9,10,11,12,13,14,15,16,17,18,19,20,21,22,23,24,25,26,27,28,29,30,31,32,33,34,35,36,37,38,39,40,41,42,43,44,45,46,47,48,49,50,51,52,53,54,55,56,57,58,59,60,61,62,63,64,65,66,67,68,69,70,71,72,73,74,75,76,77,78,79,80,81,82,83,84,85,86,87,88,89,90,91,92,93,94,95,96,97,98,99,100]}], {\"showlegend\":true,\"xaxis\":{\"tickvals\":[25.0,50.0,75.0,100.0],\"ticks\":\"inside\",\"tickmode\":\"array\",\"domain\":[0.03619130941965587,0.9934383202099738],\"linecolor\":\"rgba(0, 0, 0, 1.000)\",\"showgrid\":true,\"title\":\"\",\"tickangle\":0,\"titlefont\":{\"color\":\"rgba(0, 0, 0, 1.000)\",\"family\":\"sans-serif\",\"size\":15},\"tickcolor\":\"rgba(0, 0, 0, 1.000)\",\"ticktext\":[\"25\",\"50\",\"75\",\"100\"],\"zeroline\":false,\"type\":\"-\",\"tickfont\":{\"color\":\"rgba(0, 0, 0, 1.000)\",\"family\":\"sans-serif\",\"size\":11},\"anchor\":\"y\"},\"paper_bgcolor\":\"rgba(255, 255, 255, 1.000)\",\"annotations\":[],\"height\":400,\"margin\":{\"l\":0,\"b\":20,\"r\":0,\"t\":20},\"plot_bgcolor\":\"rgba(255, 255, 255, 1.000)\",\"yaxis\":{\"tickvals\":[-2.0,-1.0,0.0,1.0,2.0],\"ticks\":\"inside\",\"tickmode\":\"array\",\"domain\":[0.03762029746281716,0.9901574803149606],\"linecolor\":\"rgba(0, 0, 0, 1.000)\",\"showgrid\":true,\"title\":\"\",\"tickangle\":0,\"titlefont\":{\"color\":\"rgba(0, 0, 0, 1.000)\",\"family\":\"sans-serif\",\"size\":15},\"tickcolor\":\"rgba(0, 0, 0, 1.000)\",\"ticktext\":[\"-2\",\"-1\",\"0\",\"1\",\"2\"],\"zeroline\":false,\"type\":\"-\",\"tickfont\":{\"color\":\"rgba(0, 0, 0, 1.000)\",\"family\":\"sans-serif\",\"size\":11},\"anchor\":\"x\"},\"legend\":{\"bordercolor\":\"rgba(0, 0, 0, 1.000)\",\"bgcolor\":\"rgba(255, 255, 255, 1.000)\",\"font\":{\"color\":\"rgba(0, 0, 0, 1.000)\",\"family\":\"sans-serif\",\"size\":11},\"y\":1.0,\"x\":1.0},\"width\":600});\n",
       "    </script>\n"
      ]
     },
     "execution_count": 24,
     "metadata": {},
     "output_type": "execute_result"
    }
   ],
   "source": [
    "ts_length = 100\n",
    "epsilon_values = Array{Float64}(ts_length)\n",
    "i = 1\n",
    "while i <= ts_length\n",
    "    epsilon_values[i] = randn()\n",
    "    i+=1\n",
    "end\n",
    "plot(epsilon_values,color = \"blue\")"
   ]
  },
  {
   "cell_type": "markdown",
   "metadata": {},
   "source": [
    "Funções estão bem flexíveis no Julia, com a definição usual, uma expressa (usando `f_nome`), uma para tuplas, lexical scoping e mais. Um exemplo da definição básica para gerar os dados é dada por "
   ]
  },
  {
   "cell_type": "code",
   "execution_count": 25,
   "metadata": {
    "collapsed": false
   },
   "outputs": [
    {
     "data": {
      "text/html": [
       "<script src=\"/home/juser/.julia/v0.6/Plots/src/backends/../../deps/plotly-latest.min.js\"></script>    <div id=\"01fdf2b6-2950-4356-a2b3-9d5e0773db25\" style=\"width:600px;height:400px;\"></div>\n",
       "    <script>\n",
       "    PLOT = document.getElementById('01fdf2b6-2950-4356-a2b3-9d5e0773db25');\n",
       "    Plotly.plot(PLOT, [{\"showlegend\":true,\"mode\":\"lines\",\"xaxis\":\"x\",\"colorbar\":{\"title\":\"\"},\"line\":{\"color\":\"rgba(0, 0, 255, 1.000)\",\"shape\":\"linear\",\"dash\":\"solid\",\"width\":1},\"y\":[1.1795324265258225,0.7887183678897036,-0.7195262774259817,1.1463202735955225,2.4666167090704736,-0.5177930122577741,-0.244165119991032,0.9324438591056675,0.006073517936792265,0.2978243087289376,0.05444452141861172,0.2363835129031017,-0.445448913028634,-0.39707292310130077,-0.5608238377134529,-0.21453231110149007,0.19034386412979273,0.8752769176992911,0.5839765921086446,1.3130956409129486,-1.4930141332914038,0.47782254345426417,1.585511423753947,1.6573467850195571,1.6217872220085743,0.14686059200219326,0.6938134023093016,-0.24224004858275863,-0.007744303342389418,-1.5583902846386866,0.1737892786450002,-1.0211915262304074,-0.04199758036868514,0.7056327627656377,0.1453870250678897,-1.8058137558662386,-2.1975767181174493,-1.3005625478859681,0.35605827780196914,-1.7561428069768108,1.4479600155454413,-0.6173210116174787,0.05215315240670391,-0.6522989478176009,-0.3643519693806009,-0.08152394845640773,-0.48314474380452754,-0.0010177531832634618,0.6986683164359717,0.07795469064994655,-2.6454064292304835,1.23495643865983,0.35483294326517567,0.2327125066183654,-1.3060065727197117,-0.17362867340813584,-0.9760751921218037,-0.4386086740126491,0.6485926196030926,-1.1151116221516724,-1.2124472020492263,0.6473279980108844,1.242293884286009,-0.8347865817391181,-0.5502430691051113,-0.016200062624078797,-0.7167845734407325,-0.16700847948691397,-0.044308263241619184,2.2549499663251718,0.6109245875777933,0.47993380920365225,-0.0570143445983931,0.2665372040788812,-0.37930085021268534,0.6640993024975267,-0.3001646221484967,-2.937039558830342,-0.8038106118714058,-0.07916454556949891,-0.15937917001136437,-0.31459347632474227,0.39422781331063167,-2.1553741890258302,0.26680363984363387,0.6679448803623147,1.3803993304087518,-1.2561556479095743,-0.009943429854099151,0.54551854146443,-0.6162918628863324,-0.19213863743560952,0.06001316259351374,-0.5253637123993443,1.3632766804986662,-0.8708793168195919,1.4096260791179565,1.8670722120526826,0.17541545310866777,1.205734963084645],\"type\":\"scatter\",\"name\":\"y1\",\"yaxis\":\"y\",\"x\":[1,2,3,4,5,6,7,8,9,10,11,12,13,14,15,16,17,18,19,20,21,22,23,24,25,26,27,28,29,30,31,32,33,34,35,36,37,38,39,40,41,42,43,44,45,46,47,48,49,50,51,52,53,54,55,56,57,58,59,60,61,62,63,64,65,66,67,68,69,70,71,72,73,74,75,76,77,78,79,80,81,82,83,84,85,86,87,88,89,90,91,92,93,94,95,96,97,98,99,100]}], {\"showlegend\":true,\"xaxis\":{\"tickvals\":[25.0,50.0,75.0,100.0],\"ticks\":\"inside\",\"tickmode\":\"array\",\"domain\":[0.03619130941965587,0.9934383202099738],\"linecolor\":\"rgba(0, 0, 0, 1.000)\",\"showgrid\":true,\"title\":\"\",\"tickangle\":0,\"titlefont\":{\"color\":\"rgba(0, 0, 0, 1.000)\",\"family\":\"sans-serif\",\"size\":15},\"tickcolor\":\"rgba(0, 0, 0, 1.000)\",\"ticktext\":[\"25\",\"50\",\"75\",\"100\"],\"zeroline\":false,\"type\":\"-\",\"tickfont\":{\"color\":\"rgba(0, 0, 0, 1.000)\",\"family\":\"sans-serif\",\"size\":11},\"anchor\":\"y\"},\"paper_bgcolor\":\"rgba(255, 255, 255, 1.000)\",\"annotations\":[],\"height\":400,\"margin\":{\"l\":0,\"b\":20,\"r\":0,\"t\":20},\"plot_bgcolor\":\"rgba(255, 255, 255, 1.000)\",\"yaxis\":{\"tickvals\":[-2.0,-1.0,0.0,1.0,2.0],\"ticks\":\"inside\",\"tickmode\":\"array\",\"domain\":[0.03762029746281716,0.9901574803149606],\"linecolor\":\"rgba(0, 0, 0, 1.000)\",\"showgrid\":true,\"title\":\"\",\"tickangle\":0,\"titlefont\":{\"color\":\"rgba(0, 0, 0, 1.000)\",\"family\":\"sans-serif\",\"size\":15},\"tickcolor\":\"rgba(0, 0, 0, 1.000)\",\"ticktext\":[\"-2\",\"-1\",\"0\",\"1\",\"2\"],\"zeroline\":false,\"type\":\"-\",\"tickfont\":{\"color\":\"rgba(0, 0, 0, 1.000)\",\"family\":\"sans-serif\",\"size\":11},\"anchor\":\"x\"},\"legend\":{\"bordercolor\":\"rgba(0, 0, 0, 1.000)\",\"bgcolor\":\"rgba(255, 255, 255, 1.000)\",\"font\":{\"color\":\"rgba(0, 0, 0, 1.000)\",\"family\":\"sans-serif\",\"size\":11},\"y\":1.0,\"x\":1.0},\"width\":600});\n",
       "    </script>\n"
      ]
     },
     "execution_count": 25,
     "metadata": {},
     "output_type": "execute_result"
    }
   ],
   "source": [
    "function gera_dados(n)\n",
    "    epislon_values = Array{Float64}(n)\n",
    "    for i = 1:n\n",
    "        epsilon_values[i] = randn()\n",
    "    end\n",
    "    return epsilon_values\n",
    "end\n",
    "\n",
    "ts_length = 100\n",
    "data = gera_dados(ts_length)\n",
    "plot(data, color = \"blue\")"
   ]
  },
  {
   "cell_type": "markdown",
   "metadata": {},
   "source": [
    "Usemos algo mais estatístico. Para isso, usaremos o pacote `Distributions`"
   ]
  },
  {
   "cell_type": "code",
   "execution_count": 26,
   "metadata": {
    "collapsed": false
   },
   "outputs": [
    {
     "name": "stderr",
     "output_type": "stream",
     "text": [
      "\u001b[1m\u001b[36mINFO: \u001b[39m\u001b[22m\u001b[36mPackage Distributions is already installed\n",
      "\u001b[39m\u001b[1m\u001b[36mINFO: \u001b[39m\u001b[22m\u001b[36mMETADATA is out-of-date — you may not have the latest version of Distributions\n",
      "\u001b[39m\u001b[1m\u001b[36mINFO: \u001b[39m\u001b[22m\u001b[36mUse `Pkg.update()` to get the latest versions of your packages\n",
      "\u001b[39m"
     ]
    }
   ],
   "source": [
    "Pkg.add(\"Distributions\")"
   ]
  },
  {
   "cell_type": "markdown",
   "metadata": {},
   "source": [
    "Façamos um histograma"
   ]
  },
  {
   "cell_type": "code",
   "execution_count": 28,
   "metadata": {
    "collapsed": false
   },
   "outputs": [
    {
     "data": {
      "text/html": [
       "<script src=\"/home/juser/.julia/v0.6/Plots/src/backends/../../deps/plotly-latest.min.js\"></script>    <div id=\"db96ae99-35ad-4ecf-bddc-9bd8ced1c39f\" style=\"width:600px;height:400px;\"></div>\n",
       "    <script>\n",
       "    PLOT = document.getElementById('db96ae99-35ad-4ecf-bddc-9bd8ced1c39f');\n",
       "    Plotly.plot(PLOT, [{\"showlegend\":true,\"marker\":{\"color\":\"rgba(0, 154, 250, 1.000)\"},\"xaxis\":\"x\",\"colorbar\":{\"title\":\"\"},\"y\":[1.0,1.0,4.0,4.0,7.0,14.0,32.0,39.0,64.0,114.0,215.0,203.0,122.0,71.0,40.0,31.0,16.0,11.0,3.0,3.0,1.0,2.0,1.0,1.0],\"type\":\"bar\",\"name\":\"y1\",\"yaxis\":\"y\",\"orientation\":\"v\",\"x\":[-5.25,-4.75,-4.25,-3.75,-3.25,-2.75,-2.25,-1.75,-1.25,-0.75,-0.25,0.25,0.75,1.25,1.75,2.25,2.75,3.25,3.75,4.25,4.75,5.25,5.75,6.25]}], {\"showlegend\":true,\"xaxis\":{\"tickvals\":[-5.0,0.0,5.0],\"ticks\":\"inside\",\"tickmode\":\"array\",\"domain\":[0.05100612423447069,0.9934383202099737],\"linecolor\":\"rgba(0, 0, 0, 1.000)\",\"showgrid\":true,\"title\":\"\",\"tickangle\":0,\"titlefont\":{\"color\":\"rgba(0, 0, 0, 1.000)\",\"family\":\"sans-serif\",\"size\":15},\"tickcolor\":\"rgba(0, 0, 0, 1.000)\",\"ticktext\":[\"-5\",\"0\",\"5\"],\"zeroline\":false,\"type\":\"-\",\"tickfont\":{\"color\":\"rgba(0, 0, 0, 1.000)\",\"family\":\"sans-serif\",\"size\":11},\"anchor\":\"y\"},\"paper_bgcolor\":\"rgba(255, 255, 255, 1.000)\",\"annotations\":[],\"height\":400,\"margin\":{\"l\":0,\"b\":20,\"r\":0,\"t\":20},\"plot_bgcolor\":\"rgba(255, 255, 255, 1.000)\",\"yaxis\":{\"tickvals\":[0.0,50.0,100.0,150.0,200.0],\"ticks\":\"inside\",\"tickmode\":\"array\",\"domain\":[0.03762029746281716,0.9901574803149606],\"linecolor\":\"rgba(0, 0, 0, 1.000)\",\"showgrid\":true,\"title\":\"\",\"tickangle\":0,\"titlefont\":{\"color\":\"rgba(0, 0, 0, 1.000)\",\"family\":\"sans-serif\",\"size\":15},\"tickcolor\":\"rgba(0, 0, 0, 1.000)\",\"ticktext\":[\"0\",\"50\",\"100\",\"150\",\"200\"],\"zeroline\":false,\"type\":\"-\",\"tickfont\":{\"color\":\"rgba(0, 0, 0, 1.000)\",\"family\":\"sans-serif\",\"size\":11},\"anchor\":\"x\"},\"legend\":{\"bordercolor\":\"rgba(0, 0, 0, 1.000)\",\"bgcolor\":\"rgba(255, 255, 255, 1.000)\",\"font\":{\"color\":\"rgba(0, 0, 0, 1.000)\",\"family\":\"sans-serif\",\"size\":11},\"y\":1.0,\"x\":1.0},\"width\":600});\n",
       "    </script>\n"
      ]
     },
     "execution_count": 28,
     "metadata": {},
     "output_type": "execute_result"
    }
   ],
   "source": [
    "using Distributions\n",
    "\n",
    "function plot_hist(distribution,n) #note que uma das entradas é um tipo do Distributions, 'distribution'\n",
    "    epsilon_values = rand(distribution, n) #n amostras de uma distribuição especificada! Que bonitinho!\n",
    "    histogram(epsilon_values)\n",
    "end\n",
    "\n",
    "lp = Laplace() #Objeto do tipo 'distribuição' <3\n",
    "\n",
    "plot_hist(lp,1000)"
   ]
  },
  {
   "cell_type": "markdown",
   "metadata": {},
   "source": [
    "Extremamente simpático existir um objeto do tipo \"distribuição\" e todos os métodos parecem estar definidos sobre objetos dessa classe, como amostras (`rand()`) ou histogramas (`histogram`). (Nota: Preciso achar a documentação desses pacotes para ver os métodos disponíveis). \n",
    "\n",
    "Em tempo: Esse super 'overloading' como no R se chama **multiple dispatch**, e é um preceito fundamental no design da Julia."
   ]
  },
  {
   "cell_type": "markdown",
   "metadata": {},
   "source": [
    "### Exercícios"
   ]
  },
  {
   "cell_type": "markdown",
   "metadata": {},
   "source": [
    "#### Exercício 1"
   ]
  },
  {
   "cell_type": "markdown",
   "metadata": {},
   "source": [
    "Podemos calcular o fatorial $n!$ com um for utilizando o código"
   ]
  },
  {
   "cell_type": "code",
   "execution_count": 29,
   "metadata": {
    "collapsed": false
   },
   "outputs": [
    {
     "data": {
      "text/plain": [
       "120"
      ]
     },
     "execution_count": 29,
     "metadata": {},
     "output_type": "execute_result"
    }
   ],
   "source": [
    "function factorial2(n)\n",
    "    res = 1\n",
    "    for i in 1:n\n",
    "        res*=i\n",
    "    end\n",
    "    return res\n",
    "end\n",
    "\n",
    "factorial2(5)"
   ]
  },
  {
   "cell_type": "markdown",
   "metadata": {},
   "source": [
    "#### Exercício 2"
   ]
  },
  {
   "cell_type": "markdown",
   "metadata": {},
   "source": [
    "Para obter uma função que gere uma amostra da $Binomial(N,p)$ apenas usando o `rand()`"
   ]
  },
  {
   "cell_type": "code",
   "execution_count": 37,
   "metadata": {
    "collapsed": false
   },
   "outputs": [
    {
     "data": {
      "text/plain": [
       "4.0"
      ]
     },
     "execution_count": 37,
     "metadata": {},
     "output_type": "execute_result"
    }
   ],
   "source": [
    "function binomial_rv(n,p)\n",
    "    amostras = Array{Float64}(n)\n",
    "    for i in 1:n\n",
    "        U = rand()\n",
    "        if U <=p\n",
    "            amostras[i] = 1\n",
    "        else\n",
    "            amostras[i] = 0\n",
    "        end\n",
    "    end\n",
    "    return sum(amostras)\n",
    "end\n",
    "\n",
    "binomial_rv(10,0.3)"
   ]
  },
  {
   "cell_type": "markdown",
   "metadata": {},
   "source": [
    "#### Exercício 3 "
   ]
  },
  {
   "cell_type": "markdown",
   "metadata": {},
   "source": [
    "Clássico de aproximar $\\pi$ utilizando Monte Carlo"
   ]
  },
  {
   "cell_type": "code",
   "execution_count": 48,
   "metadata": {
    "collapsed": false
   },
   "outputs": [
    {
     "data": {
      "text/plain": [
       "3.14199999999624"
      ]
     },
     "execution_count": 48,
     "metadata": {},
     "output_type": "execute_result"
    }
   ],
   "source": [
    "function MC(n)\n",
    "    U = rand(n,2) #realizacoes das coordenadas\n",
    "    Area = 0\n",
    "    for i in 1:n\n",
    "        if sqrt(U[i,1]^2+U[i,2]^2) <=1\n",
    "            Area +=1/n\n",
    "        else\n",
    "            Area +=0\n",
    "        end\n",
    "    end\n",
    "    4*Area #Pois como sao duas U(0,1) temos apenas 1/4 da área\n",
    "end\n",
    "\n",
    "MC(100000)"
   ]
  },
  {
   "cell_type": "markdown",
   "metadata": {},
   "source": [
    "#### Exercício 4 "
   ]
  },
  {
   "cell_type": "code",
   "execution_count": 17,
   "metadata": {
    "collapsed": false
   },
   "outputs": [
    {
     "data": {
      "text/plain": [
       "1"
      ]
     },
     "execution_count": 17,
     "metadata": {},
     "output_type": "execute_result"
    }
   ],
   "source": [
    "using Distributions\n",
    "x = Binomial(1,0.5)\n",
    "res = rand(x,10)\n",
    "dolar = 0 #pagamento\n",
    "for i in 2:(length(res)-1)\n",
    "    if res[i-1]==res[i]==res[i+1]==1\n",
    "        dolar = 1\n",
    "    end\n",
    "end\n",
    "dolar"
   ]
  },
  {
   "cell_type": "markdown",
   "metadata": {},
   "source": [
    "Agora vi que o exercício pede apenas `rand()`. Ok."
   ]
  },
  {
   "cell_type": "code",
   "execution_count": 20,
   "metadata": {
    "collapsed": false
   },
   "outputs": [
    {
     "data": {
      "text/plain": [
       "0"
      ]
     },
     "execution_count": 20,
     "metadata": {},
     "output_type": "execute_result"
    }
   ],
   "source": [
    "res = Array{Int64}(10)\n",
    "for i in 1:10\n",
    "    if(rand() <= 0.5)\n",
    "        res[i] = 1\n",
    "    else\n",
    "        res[i] = 0\n",
    "    end\n",
    "end\n",
    "dolar = 0 #pagamento\n",
    "for i in 2:(length(res)-1)\n",
    "    if res[i-1]==res[i]==res[i+1]==1\n",
    "        dolar = 1\n",
    "    end\n",
    "end\n",
    "dolar"
   ]
  },
  {
   "cell_type": "markdown",
   "metadata": {},
   "source": [
    "#### Exercício 5 "
   ]
  },
  {
   "cell_type": "markdown",
   "metadata": {},
   "source": [
    "Considere a série temporal $x_{t+1} = \\alpha x_t+\\epsilon_{t+1} $, com $x_0 = 0$"
   ]
  },
  {
   "cell_type": "code",
   "execution_count": 56,
   "metadata": {
    "collapsed": false
   },
   "outputs": [
    {
     "name": "stdout",
     "output_type": "stream",
     "text": [
      "[-0.63306, -1.59451, -1.61367, -2.65212, -1.89319, -1.74882, -2.69726, -2.34733, -2.23035, -2.56364, -2.52772, -2.27411, -2.83782, -3.26042, -2.32893, -3.09879, -2.27334, -0.8996, -1.07242, 0.153524, -0.400782, 0.0460009, 0.434175, 0.743563, 0.339677, -0.114308, -0.262333, -0.352092, -0.0900637, 0.452145, -0.999151, -0.839302, -1.41192, -0.912993, -0.311098, -0.675282, -1.44534, -1.89594, 0.465073, 1.9989, 1.98532, 1.84882, 0.970326, 0.100799, -0.683279, 0.369912, -0.278636, 0.249603, 0.832588, 0.00737486, 1.01958, -0.273003, -0.286978, 0.436939, 0.41778, -0.323217, -1.20539, -1.76157, -1.6865, -1.39604, -1.40219, -1.42175, -1.99789, -1.81046, -2.09958, -2.01788, -2.28829, -2.50154, -2.85534, -4.62678, -5.56421, -6.31178, -4.84806, -3.78353, -3.91955, -3.94356, -3.54715, -2.85871, -0.0594064, 0.0157831, -1.23784, -2.53167, -3.90857, -3.86437, -2.52857, -1.04008, -0.919217, -1.39582, -1.15833, -2.01125, -1.70554, -2.63164, -2.06536, -3.40049, -4.80928, -3.21822, -2.19801, -1.85767, -2.02968, -2.66085, -1.86998, -2.1993, -1.28262, -1.10057, -2.13584, -2.05277, -1.11353, -1.11497, -1.88991, -2.23218, -3.04684, -2.13118, -3.04376, -3.43635, -2.61657, -2.24658, -3.3789, -0.92728, 1.31362, 0.601475, 1.32435, -0.147353, -1.39756, -1.4404, -0.207627, 2.20543, 1.79029, 5.08789, 4.25589, 2.49776, 2.05151, 2.69634, 1.78395, 1.51642, 1.64226, 2.92775, 1.32442, 0.221839, 1.49478, 0.897142, 0.392423, 1.62065, 2.89061, 2.404, 1.84039, 1.25933, 2.0379, 3.34871, 3.14088, 3.45446, 4.33715, 4.89631, 5.09858, 2.99182, 1.98606, 1.80784, 0.685491, 2.18179, 1.49804, 0.0630605, 1.5148, 1.20674, 0.392171, 0.305933, 0.754776, -0.484174, -1.61697, -2.74538, -2.93176, -2.65233, -0.985222, -0.305906, -0.292868, 1.61769, 1.71049, 1.65865, 0.307896, -1.0058, -2.21426, -2.14131, -4.41119, -3.13236, -3.42435, -2.91137, -2.77415, -0.987272, -1.06408, -2.00268, -2.04996, -1.45305, -1.55319, -0.475843, 2.65925, 2.71646, 2.86482, 1.32575, 2.66082, 3.64109, 3.8388, 2.65848]\n"
     ]
    },
    {
     "data": {
      "text/html": [
       "<script src=\"/home/juser/.julia/v0.6/Plots/src/backends/../../deps/plotly-latest.min.js\"></script>    <div id=\"27b84630-931f-4f80-a06d-51d509cb5699\" style=\"width:600px;height:400px;\"></div>\n",
       "    <script>\n",
       "    PLOT = document.getElementById('27b84630-931f-4f80-a06d-51d509cb5699');\n",
       "    Plotly.plot(PLOT, [{\"showlegend\":true,\"mode\":\"lines\",\"xaxis\":\"x\",\"colorbar\":{\"title\":\"\"},\"line\":{\"color\":\"rgba(255, 0, 0, 1.000)\",\"shape\":\"linear\",\"dash\":\"solid\",\"width\":1},\"y\":[-0.6330598222430326,-1.594514730233692,-1.6136749760311588,-2.652122113764831,-1.8931905829556568,-1.7488222472774622,-2.6972636235261067,-2.3473296362554605,-2.2303518576684884,-2.5636411154105287,-2.5277169962515167,-2.27411451322353,-2.8378168552933123,-3.260420455173292,-2.3289322045228102,-3.098793678465766,-2.2733355028773246,-0.8996001614489695,-1.0724234982912793,0.15352410258901417,-0.4007821252953352,0.046000877354089253,0.43417491813228765,0.7435626893937829,0.33967655322263124,-0.11430768481032061,-0.26233310682219746,-0.3520919448793306,-0.09006372303521859,0.45214534349806446,-0.9991506645829753,-0.839301537379004,-1.41191519279759,-0.9129926014473977,-0.3110975100981844,-0.6752817922307681,-1.4453446189022667,-1.8959365262113685,0.4650725659389716,1.9989036853782862,1.9853179175316888,1.848824032296638,0.970326327363209,0.10079855461608966,-0.6832791910218597,0.3699118460464559,-0.2786355799925265,0.2496031290473456,0.8325882788316833,0.007374857088482845,1.019575321473486,-0.27300333127185905,-0.2869780291947903,0.43693880921709743,0.41777959501272655,-0.32321679739072223,-1.2053921613599528,-1.7615712986012206,-1.6864990768912038,-1.3960398342106044,-1.4021913207138423,-1.4217478536261292,-1.9978885161366795,-1.8104649208567531,-2.099576316089273,-2.0178849140802018,-2.2882878510832136,-2.5015396045417546,-2.8553402719320307,-4.626783302245752,-5.564214240946042,-6.311778378108186,-4.848059754234672,-3.783528015798324,-3.9195504721573693,-3.9435562824906194,-3.547152601750954,-2.8587115824943363,-0.059406400609973264,0.015783057478203417,-1.2378442645450871,-2.531671005130269,-3.908566601200046,-3.864365824312332,-2.5285740494487237,-1.0400781920755204,-0.9192167405027087,-1.3958165748663387,-1.158328452431856,-2.0112505062663595,-1.705537788865407,-2.6316424440735187,-2.0653619195865187,-3.4004897257757327,-4.809280683236711,-3.2182247369415444,-2.1980144303351885,-1.8576695230560307,-2.0296776901017197,-2.6608454464155673,-1.869982696916467,-2.1992971965728434,-1.2826223593590274,-1.100570151915598,-2.135841963572242,-2.0527726073720522,-1.1135287403166965,-1.11497402389479,-1.8899140860332087,-2.232179382039014,-3.0468379045459972,-2.1311766607571165,-3.04376399911287,-3.43634646944862,-2.6165712711068316,-2.246583026572842,-3.3788989164841476,-0.9272802351128848,1.31361641742257,0.6014745752651317,1.3243541064047768,-0.1473533747750928,-1.3975621015504769,-1.4403974778032587,-0.20762713492171647,2.205429570900123,1.7902933071754314,5.087890656756683,4.255886221988832,2.497758808846144,2.051513030343602,2.696336575917891,1.783948530700631,1.5164180271286047,1.6422559160123325,2.927752364718259,1.3244156143139687,0.2218389933619167,1.494781564059686,0.8971419744033209,0.3924234028335619,1.6206523232865084,2.8906143598478664,2.4040044396882387,1.8403871094526818,1.2593333317272972,2.03789695354871,3.348710027164564,3.1408767287342143,3.454462156270381,4.337145021150745,4.896305614826922,5.098576806734891,2.9918219053032393,1.9860554208509047,1.8078444045846673,0.6854905046795149,2.1817900353555935,1.4980378383648156,0.06306047564673367,1.5147993880510275,1.206739208924707,0.3921712660261294,0.30593285119836916,0.754776294089801,-0.4841741818276176,-1.6169686832576378,-2.7453786992694265,-2.9317606693230607,-2.652327825929093,-0.9852216082103529,-0.305906301473054,-0.29286807785910957,1.6176884050092095,1.7104893701961308,1.658648361391279,0.3078955328356465,-1.0057952009878572,-2.2142558606426914,-2.1413072341921713,-4.411192687981644,-3.132358703369488,-3.4243546343215026,-2.911370535612901,-2.774151855874587,-0.9872715613810554,-1.0640766653946752,-2.0026795516435314,-2.0499552985858776,-1.4530524535315894,-1.5531870643266568,-0.47584274811631566,2.659250190540557,2.716461228652846,2.8648224693235638,1.3257460688458613,2.6608238790873497,3.641089081256018,3.838803835507632,2.6584763426123583],\"type\":\"scatter\",\"name\":\"y1\",\"yaxis\":\"y\",\"x\":[1,2,3,4,5,6,7,8,9,10,11,12,13,14,15,16,17,18,19,20,21,22,23,24,25,26,27,28,29,30,31,32,33,34,35,36,37,38,39,40,41,42,43,44,45,46,47,48,49,50,51,52,53,54,55,56,57,58,59,60,61,62,63,64,65,66,67,68,69,70,71,72,73,74,75,76,77,78,79,80,81,82,83,84,85,86,87,88,89,90,91,92,93,94,95,96,97,98,99,100,101,102,103,104,105,106,107,108,109,110,111,112,113,114,115,116,117,118,119,120,121,122,123,124,125,126,127,128,129,130,131,132,133,134,135,136,137,138,139,140,141,142,143,144,145,146,147,148,149,150,151,152,153,154,155,156,157,158,159,160,161,162,163,164,165,166,167,168,169,170,171,172,173,174,175,176,177,178,179,180,181,182,183,184,185,186,187,188,189,190,191,192,193,194,195,196,197,198,199,200]}], {\"showlegend\":true,\"xaxis\":{\"tickvals\":[50.0,100.0,150.0,200.0],\"ticks\":\"inside\",\"tickmode\":\"array\",\"domain\":[0.03619130941965587,0.9934383202099738],\"linecolor\":\"rgba(0, 0, 0, 1.000)\",\"showgrid\":true,\"title\":\"\",\"tickangle\":0,\"titlefont\":{\"color\":\"rgba(0, 0, 0, 1.000)\",\"family\":\"sans-serif\",\"size\":15},\"tickcolor\":\"rgba(0, 0, 0, 1.000)\",\"ticktext\":[\"50\",\"100\",\"150\",\"200\"],\"zeroline\":false,\"type\":\"-\",\"tickfont\":{\"color\":\"rgba(0, 0, 0, 1.000)\",\"family\":\"sans-serif\",\"size\":11},\"anchor\":\"y\"},\"paper_bgcolor\":\"rgba(255, 255, 255, 1.000)\",\"annotations\":[],\"height\":400,\"margin\":{\"l\":0,\"b\":20,\"r\":0,\"t\":20},\"plot_bgcolor\":\"rgba(255, 255, 255, 1.000)\",\"yaxis\":{\"tickvals\":[-5.0,0.0,5.0],\"ticks\":\"inside\",\"tickmode\":\"array\",\"domain\":[0.03762029746281716,0.9901574803149606],\"linecolor\":\"rgba(0, 0, 0, 1.000)\",\"showgrid\":true,\"title\":\"\",\"tickangle\":0,\"titlefont\":{\"color\":\"rgba(0, 0, 0, 1.000)\",\"family\":\"sans-serif\",\"size\":15},\"tickcolor\":\"rgba(0, 0, 0, 1.000)\",\"ticktext\":[\"-5\",\"0\",\"5\"],\"zeroline\":false,\"type\":\"-\",\"tickfont\":{\"color\":\"rgba(0, 0, 0, 1.000)\",\"family\":\"sans-serif\",\"size\":11},\"anchor\":\"x\"},\"legend\":{\"bordercolor\":\"rgba(0, 0, 0, 1.000)\",\"bgcolor\":\"rgba(255, 255, 255, 1.000)\",\"font\":{\"color\":\"rgba(0, 0, 0, 1.000)\",\"family\":\"sans-serif\",\"size\":11},\"y\":1.0,\"x\":1.0},\"width\":600});\n",
       "    </script>\n"
      ]
     },
     "execution_count": 56,
     "metadata": {},
     "output_type": "execute_result"
    }
   ],
   "source": [
    "using Distributions\n",
    "using Plots\n",
    "T = 200\n",
    "α = 0.9\n",
    "N = Normal(0,1)\n",
    "x = Array{Float64}(T)\n",
    "x[1] = rand(N,1)[1]\n",
    "for i in 2:T\n",
    "    x[i] = α*x[i-1] + rand(N,1)[1]\n",
    "end\n",
    "println(x)\n",
    "plot(x,color = \"red\")\n"
   ]
  },
  {
   "cell_type": "markdown",
   "metadata": {},
   "source": [
    "#### Exercício 6"
   ]
  },
  {
   "cell_type": "code",
   "execution_count": 4,
   "metadata": {
    "collapsed": false
   },
   "outputs": [
    {
     "data": {
      "text/html": [
       "<script src=\"/home/juser/.julia/v0.6/Plots/src/backends/../../deps/plotly-latest.min.js\"></script>    <div id=\"4bc26ff3-24e7-4c3b-9442-8fa5fb83b0d9\" style=\"width:600px;height:400px;\"></div>\n",
       "    <script>\n",
       "    PLOT = document.getElementById('4bc26ff3-24e7-4c3b-9442-8fa5fb83b0d9');\n",
       "    Plotly.plot(PLOT, [{\"showlegend\":true,\"mode\":\"lines\",\"xaxis\":\"x\",\"colorbar\":{\"title\":\"\"},\"line\":{\"color\":\"rgba(0, 154, 250, 1.000)\",\"shape\":\"linear\",\"dash\":\"solid\",\"width\":1},\"y\":[0.05601350595453509,0.794465520868725,-0.9443944821711456,0.27036037499821436,0.28587068621669537,0.4467705436990995,-0.1429125105107781,-0.04647273494195907,0.5497533988788244,1.0664859183081326,-0.2575581947985717,-1.2134590980778985,0.9626584709282913,-0.5539633864314059,-0.38742350017622845,-1.1827224829347307,0.2517507298328273,0.642807326183243,-0.3816384667181348,1.5573643980634166,-1.6739393503841509,0.11550589513801685,-0.5471111501519169,-0.9748921903423776,0.21419476791348416,1.6840809252729514,0.1490500809213844,0.7013520213041506,-0.5819892633628082,-0.22108527569038133,-0.050171312225312556,0.019407311499719273,0.3426381565173089,0.22407190134968585,1.5427428395201395,1.3283398375993638,0.984090254912671,-0.40389090172395786,1.0994390274859824,-0.3034062825748406,-0.3237607315066315,-0.8727695121778506,0.3719010760161129,-1.2986406579228578,-0.6172350742420931,0.16378099804743013,1.1485054237942764,0.7276017951421697,-1.341176760580874,-0.1253747419469658,0.16962411826027934,1.6008430409214023,-0.8163742986555997,-0.46228038193336607,0.26042109055460816,1.1624928233913576,0.02004632522132376,0.3099400299178077,-0.9566341139765903,0.2125622573564231,-0.5451419256471771,0.30964553092322733,0.9052890495036079,-0.24219075734249965,0.20883329978862245,-0.66920857333257,-0.5099811101607783,-0.3358081314253899,0.9660697633244361,0.8161776291049339,-0.2038241835265154,0.4210876324700893,-0.6765626954430561,-0.6138778724092041,-1.1438738325427211,2.379423520723069,-1.7128812116547438,0.502048423256368,0.15959537159432785,0.37312614992142035,-0.39849536779831235,-0.10071335669265731,-1.2723624847217598,1.4504033003157542,0.2842866608875316,0.02766675017527439,0.11529222012649215,-0.40318554334294965,-0.9055498821165462,-0.5715658015713457,-2.324197458802748,1.218403201962294,3.2210252718867256,1.1176823799622155,-0.5994161818577493,1.2148654948255309,-1.3418034314327403,0.5899992647927457,0.7858203651781686,-0.03697680170658421,-1.3177391434092742,0.7582519492364584,1.1514329776840575,-0.686385013174436,-0.06631086422824131,-0.01239595327335048,0.7881667174847342,1.2935484616085626,1.2818170736434251,0.545599089218466,0.6389927422745553,-1.081466746143099,1.9057365573623843,1.2981403567820142,0.48520104922632235,-0.515314224088894,0.5367636151647501,-0.9523002244531795,1.1422298199489558,-0.1854620141558385,-0.06693283623448187,-0.2277697747746792,0.8577605520465843,-0.208507014745694,-0.6114428401852121,0.06183350063922982,-0.7335460935111541,-1.7279289795020587,-1.6858864802076496,0.813419687693387,0.9934397093770032,-1.7697429095154282,0.0749624672831236,2.2037718999844635,0.04141836323364089,1.1372657009427534,0.15179263162958248,0.3519110373911395,1.0008482146221571,2.6455162139219905,-0.7603171644491739,1.167194840902074,-1.001932317600982,0.9879761975263381,0.37691467769200276,0.20705601760031977,0.5044981773471513,0.062320385877653595,-2.0075388311444016,-0.07335918377161416,0.08949748907706784,1.0449987289228446,-1.4706694705534775,-0.7394003698324362,-1.7835996396270533,0.38150012954496443,-1.2598158142235902,-0.0807005989599079,0.8372577638736715,0.33539797594673104,-2.1223650412070607,1.3433273438700557,0.2522527408232589,0.6258543446721163,1.0116010461642337,1.3115682957076615,-0.29732841589331355,-1.3428392030512712,0.8993430858877752,-0.47108733405977393,-1.9664722264036099,1.128567229472507,-0.17643402189376461,-2.167860267215832,0.17047544684157623,1.2728253205277726,0.7902834877817699,0.6030995254753272,-0.8616744481154387,-0.03948239266277623,-0.8334938591813452,1.1233463207567422,-1.7087779304096156,-1.2729166580609579,0.14206954347085918,-0.6160412057487131,-0.031286708297518076,-0.03935662682457031,0.33052199439899654,0.6552748404255947,-0.8702539679556537,-0.8006100812090261,-0.4805025246517415,-1.4843104342683426,-1.1198392699153867,0.36512602732862875,-0.3013244660547656,-0.2989604393200839,-0.8721826525571167,-0.257637432007318],\"type\":\"scatter\",\"name\":0.0,\"yaxis\":\"y\",\"x\":[1,2,3,4,5,6,7,8,9,10,11,12,13,14,15,16,17,18,19,20,21,22,23,24,25,26,27,28,29,30,31,32,33,34,35,36,37,38,39,40,41,42,43,44,45,46,47,48,49,50,51,52,53,54,55,56,57,58,59,60,61,62,63,64,65,66,67,68,69,70,71,72,73,74,75,76,77,78,79,80,81,82,83,84,85,86,87,88,89,90,91,92,93,94,95,96,97,98,99,100,101,102,103,104,105,106,107,108,109,110,111,112,113,114,115,116,117,118,119,120,121,122,123,124,125,126,127,128,129,130,131,132,133,134,135,136,137,138,139,140,141,142,143,144,145,146,147,148,149,150,151,152,153,154,155,156,157,158,159,160,161,162,163,164,165,166,167,168,169,170,171,172,173,174,175,176,177,178,179,180,181,182,183,184,185,186,187,188,189,190,191,192,193,194,195,196,197,198,199,200]},{\"showlegend\":true,\"mode\":\"lines\",\"xaxis\":\"x\",\"colorbar\":{\"title\":\"\"},\"line\":{\"color\":\"rgba(227, 111, 71, 1.000)\",\"shape\":\"linear\",\"dash\":\"solid\",\"width\":1},\"y\":[0.869480564720491,0.7077014856762907,-0.7515196692276597,-1.284591522320636,-0.5031802483475102,-0.017170956364485845,0.04153123033467285,0.3682143310600499,0.29062095465226423,-1.3688449478195726,-1.177652104299828,-0.7559138723346398,1.5044002601094641,1.7309772146581741,0.3815555305364122,-1.1657464650419596,0.5304595046368601,-0.7158838594122012,0.8654380664565827,0.5933443390600358,1.6309438135810428,2.03927839892981,0.8445129557574504,-1.294781256841016,-1.669329278573293,-1.1820320042528532,-0.8056049157617369,1.3941731488728006,1.0865963622769015,1.0457702182574584,1.9778817215198938,0.9131923794964438,-0.21778747350870153,-1.6298400393475247,-1.171931804856725,0.5451548148341283,-0.14836119407793563,-0.5816307097728769,0.13578045600187638,-0.08294679698294971,-0.7780781322931641,-0.819596952835344,-0.20761011759462294,-1.0860197702776198,-0.9310075464930266,0.6182280900738024,0.8325469581727618,0.7616015941519287,-0.5409237063730223,-2.004991697528746,-2.031877157467538,-2.161032537955851,-2.309350277970191,-1.7356793206200316,-1.9296371463342594,-0.30103657007737605,-0.9290199280641926,0.8561681707636389,2.1268900620367543,2.1191016623643755,0.30829126888847913,-0.555523964754318,-0.7823677305803616,-1.3428121743397252,-1.3114215667046865,-3.2748712386543097,-1.9003106288632792,-2.3782172437983737,-2.0964492455972343,-2.1636255022108077,-3.7175774123848697,-2.5827848081700155,-0.836847907709346,-1.1200799205044665,0.4938404429787244,0.6471316034684977,1.8882035571243851,0.417462086449071,0.4071344793233628,0.3348050270438624,-0.7578975447613898,-1.021860170273056,-1.8804577736112602,-2.2698140134492255,-3.2836499609814758,-5.393336753089148,-3.2757034740774498,-2.9512080364862228,-3.5303464176358537,-3.5858868028961575,-5.454681135680929,-5.002874676447638,-3.938493998374717,-4.12258887649353,-2.45206037089413,-1.1787564117328853,0.43774182358873936,1.7876030894529653,2.7153819101254584,1.8049495079550257,0.86635376327747,0.6064336914509012,1.420790964027327,1.368416946602432,-0.22807163565060673,0.13769937889344105,-0.5024772294040082,-1.561771372498252,-1.7110635970045502,-0.12771945991646794,-1.1237171462151632,-0.5800279623100559,-1.5678894511474017,-0.5346688753124933,0.3586019272779852,1.047159265601472,1.4630042323343657,2.453098322212573,0.7734581884527134,-0.8423119614197766,-0.6820146934566277,0.0006427869566980604,-0.730630052341814,-1.8396181387654114,-0.626460975705964,0.012278469830694472,-0.4399738827613661,0.020985159644389906,0.6779398767451515,0.8818073586162403,1.1663814964942976,-0.3005036803727863,-0.26045096977214655,1.7159990169125854,2.7538427741303493,1.9502068498522398,2.1192327420718358,1.2772346790748275,2.6807860707130247,3.9830888720970092,4.567920176774401,3.7139828032840017,3.286121485664136,4.38908176751566,3.9784994556818427,5.704531832653911,4.568574093944309,2.9277994375388143,2.602750308731842,1.4787263389751706,1.5730951589038247,3.021349757467073,3.990662364356454,2.303539420272702,1.4617781838954298,1.1763751810628913,1.1957602308268458,-0.29224024198280474,0.0006137028860486726,-0.14243598574082802,0.33617362309294735,-2.040926898422628,-2.2719088650175676,-2.0106049856566885,-1.3798787745441188,-0.8085134010866102,-2.004348463023762,0.8951838591655426,0.298000163363526,0.42647787816169513,1.2604574596183902,3.2974350933118943,3.106706452877719,1.4787148830940342,1.8723226467647491,2.029838119336478,1.2599915161667774,1.174140451687953,1.5190456905746346,0.07640333406573108,0.28868431722434534,-0.1965679282812156,-1.4506699271090318,-1.2436377665534226,-1.154631745740716,0.3448398152817277,1.6764782959067883,1.8161563665095062,0.1038272958032549,-2.0871409047675944,-0.9617059606903214,-2.3543505487897085,-3.3924936171468687,-3.843723624829881,-5.410242895677138,-5.229344917212227,-4.900489628902996,-3.59113042393796,-0.0330598158398856,-0.12848132043999247],\"type\":\"scatter\",\"name\":0.8,\"yaxis\":\"y\",\"x\":[1,2,3,4,5,6,7,8,9,10,11,12,13,14,15,16,17,18,19,20,21,22,23,24,25,26,27,28,29,30,31,32,33,34,35,36,37,38,39,40,41,42,43,44,45,46,47,48,49,50,51,52,53,54,55,56,57,58,59,60,61,62,63,64,65,66,67,68,69,70,71,72,73,74,75,76,77,78,79,80,81,82,83,84,85,86,87,88,89,90,91,92,93,94,95,96,97,98,99,100,101,102,103,104,105,106,107,108,109,110,111,112,113,114,115,116,117,118,119,120,121,122,123,124,125,126,127,128,129,130,131,132,133,134,135,136,137,138,139,140,141,142,143,144,145,146,147,148,149,150,151,152,153,154,155,156,157,158,159,160,161,162,163,164,165,166,167,168,169,170,171,172,173,174,175,176,177,178,179,180,181,182,183,184,185,186,187,188,189,190,191,192,193,194,195,196,197,198,199,200]},{\"showlegend\":true,\"mode\":\"lines\",\"xaxis\":\"x\",\"colorbar\":{\"title\":\"\"},\"line\":{\"color\":\"rgba(62, 164, 78, 1.000)\",\"shape\":\"linear\",\"dash\":\"solid\",\"width\":1},\"y\":[2.958636329024588,4.1860345128448255,3.9498466315688656,5.520520792852713,5.545967307099732,5.2607654262261985,6.130784693097441,7.005372213544304,7.139424209807944,6.322951281154844,5.952705501851234,7.017922171269765,7.833470008371387,7.736841384216781,8.573725977646392,8.586655139821486,9.101528259857675,10.096201095751672,8.813954577045683,7.503877988625239,7.682741064091954,7.470315076275682,8.390059574130314,8.056942905250125,10.722961716397784,10.065296376874972,11.368922207802417,10.972749661111013,10.614572578777041,11.404478434505831,11.277115729112769,7.714425324189982,6.806782719708609,7.7037577202396275,7.281259662850186,5.160795867900489,4.244294385072772,2.6545098800152633,1.2285764144330384,2.4526095940172725,1.6928970836789328,2.2473035805917343,3.629927159821649,3.590669239491924,3.3914010378216792,2.944209605620014,3.275691905785743,2.5964684326801613,3.3976975898532498,4.437455737303839,4.459589810105892,3.2044521215359723,2.147398652924461,1.724609935964769,2.9342295502073283,2.0541769338928972,2.0651517435496496,3.441535503102428,2.3555097700219028,2.278605500360562,2.682809216772919,1.6764625764358083,2.223004742164483,2.86549725792053,3.4115850449305913,4.067967801144987,4.315223129923195,5.693033700090384,4.330619056880016,3.448117260913216,3.682450985067434,3.4146889829786877,2.811108833586882,1.7581982259524933,1.3988153638919563,1.65513610705782,1.6078553258958947,1.0025945866982173,0.0228830190696675,0.8717496464168284,2.1124552192291564,1.6804615751441103,0.2494726829324898,0.18177699414433618,1.0722556379751333,0.030428058608996666,-0.6400028597349042,-0.9325000632281601,0.48500422549938715,1.2820415065590047,2.2124995884070437,3.2212035484235617,3.1321326963794114,0.9633862698096904,-0.6820724732062814,0.08767070420028422,-0.8247021177673565,0.6385424006921143,1.0258642233931627,0.5917971986133933,1.242524059247934,-0.035278147887781275,2.0070042127991305,1.799261220591489,0.3985794660789348,1.4471094538609632,2.3553204867791706,1.0744312916650947,2.1640388934013277,3.205094723158317,3.4938788990751397,4.377005524871762,3.1447694362399266,1.614585962801932,-0.35596171591695636,0.7954739905558084,0.12097908669758861,0.0761843248500971,1.7550860199804614,1.8941693324295241,2.072740396542523,0.9593549475485617,0.3845664517430838,1.2554145784778927,0.546553566878923,0.4044073678058022,1.625992785672969,2.0233135925921824,1.521653725288,1.6740576291538172,-0.2321983984741609,-1.1016640586049733,-0.5153085290394782,-0.2048903265162761,-2.554610931520684,-1.9608971274582854,-2.6956679883726182,-3.473867928197526,-3.4706568086308702,-3.6093387852275542,-4.46198276954877,-3.061461381961653,-2.7180867244769034,-2.656774680604876,-1.5243181574007898,-0.5836794343361826,0.25878246147239237,-0.3070516260581368,0.7006902072228993,0.5178008825163795,-1.3853271798825386,-0.5887476682559218,1.07210344802429,0.5834695182534405,1.3476578214458756,-0.6491189032238818,-0.01078394662982074,-2.3330893420979146,-3.1949273404305996,-2.6465151670557745,-4.197794576580627,-5.615175950567883,-4.625593125033993,-4.005719722219652,-4.925494206097926,-3.318960263485361,-2.5354051344476725,-3.279953936081217,-2.974039055001488,-3.1611559600768895,-2.192622371378909,-0.6862777080027569,-0.5471302981513364,-0.17369158509784155,0.1062461399983903,-0.29136229055009566,-1.7784421533346273,-1.5991944129287008,-1.0505919603129872,-2.1124873704902303,-1.3487236781826244,-0.8183431379033956,0.8101076909033282,2.596543654231876,3.4278036092877673,2.429663475527092,3.9811722251547335,3.9095094710344354,3.582273636899232,2.9809150970316027,3.5441430879673903,2.231948704194754,1.1126423372218892,0.3644788226537058,0.6325107550316942,1.3056791803237626,0.6724093024144746,0.21070646387981196,-0.5626351538647959,0.06485799651089752],\"type\":\"scatter\",\"name\":0.98,\"yaxis\":\"y\",\"x\":[1,2,3,4,5,6,7,8,9,10,11,12,13,14,15,16,17,18,19,20,21,22,23,24,25,26,27,28,29,30,31,32,33,34,35,36,37,38,39,40,41,42,43,44,45,46,47,48,49,50,51,52,53,54,55,56,57,58,59,60,61,62,63,64,65,66,67,68,69,70,71,72,73,74,75,76,77,78,79,80,81,82,83,84,85,86,87,88,89,90,91,92,93,94,95,96,97,98,99,100,101,102,103,104,105,106,107,108,109,110,111,112,113,114,115,116,117,118,119,120,121,122,123,124,125,126,127,128,129,130,131,132,133,134,135,136,137,138,139,140,141,142,143,144,145,146,147,148,149,150,151,152,153,154,155,156,157,158,159,160,161,162,163,164,165,166,167,168,169,170,171,172,173,174,175,176,177,178,179,180,181,182,183,184,185,186,187,188,189,190,191,192,193,194,195,196,197,198,199,200]}], {\"showlegend\":true,\"xaxis\":{\"tickvals\":[50.0,100.0,150.0,200.0],\"ticks\":\"inside\",\"tickmode\":\"array\",\"domain\":[0.03619130941965587,0.9934383202099738],\"linecolor\":\"rgba(0, 0, 0, 1.000)\",\"showgrid\":true,\"title\":\"\",\"tickangle\":0,\"titlefont\":{\"color\":\"rgba(0, 0, 0, 1.000)\",\"family\":\"sans-serif\",\"size\":15},\"tickcolor\":\"rgba(0, 0, 0, 1.000)\",\"ticktext\":[\"50\",\"100\",\"150\",\"200\"],\"zeroline\":false,\"type\":\"-\",\"tickfont\":{\"color\":\"rgba(0, 0, 0, 1.000)\",\"family\":\"sans-serif\",\"size\":11},\"anchor\":\"y\"},\"paper_bgcolor\":\"rgba(255, 255, 255, 1.000)\",\"annotations\":[],\"height\":400,\"margin\":{\"l\":0,\"b\":20,\"r\":0,\"t\":20},\"plot_bgcolor\":\"rgba(255, 255, 255, 1.000)\",\"yaxis\":{\"tickvals\":[-5.0,0.0,5.0,10.0],\"ticks\":\"inside\",\"tickmode\":\"array\",\"domain\":[0.03762029746281716,0.9901574803149606],\"linecolor\":\"rgba(0, 0, 0, 1.000)\",\"showgrid\":true,\"title\":\"\",\"tickangle\":0,\"titlefont\":{\"color\":\"rgba(0, 0, 0, 1.000)\",\"family\":\"sans-serif\",\"size\":15},\"tickcolor\":\"rgba(0, 0, 0, 1.000)\",\"ticktext\":[\"-5\",\"0\",\"5\",\"10\"],\"zeroline\":false,\"type\":\"-\",\"tickfont\":{\"color\":\"rgba(0, 0, 0, 1.000)\",\"family\":\"sans-serif\",\"size\":11},\"anchor\":\"x\"},\"legend\":{\"bordercolor\":\"rgba(0, 0, 0, 1.000)\",\"bgcolor\":\"rgba(255, 255, 255, 1.000)\",\"font\":{\"color\":\"rgba(0, 0, 0, 1.000)\",\"family\":\"sans-serif\",\"size\":11},\"y\":1.0,\"x\":1.0},\"width\":600});\n",
       "    </script>\n"
      ]
     },
     "execution_count": 4,
     "metadata": {},
     "output_type": "execute_result"
    }
   ],
   "source": [
    "using Distributions\n",
    "using Plots\n",
    "function simTS(α, T=200)\n",
    "    T = 200\n",
    "    N = Normal(0,1)\n",
    "    x = Array{Float64}(T)\n",
    "    x[1] = rand(N,1)[1]\n",
    "    for i in 2:T\n",
    "        x[i] = α*x[i-1] + rand(N,1)[1]\n",
    "    end\n",
    "    return x\n",
    "end\n",
    "\n",
    "alfas = [0.00,0.80,0.98]\n",
    "series = []\n",
    "labels = []\n",
    "\n",
    "for par in alfas\n",
    "    push!(series,simTS(par))\n",
    "    push!(labels,par)\n",
    "end\n",
    "plot(series,labels = label=reshape(labels,1,length(labels)))\n",
    "\n",
    "\n"
   ]
  },
  {
   "cell_type": "markdown",
   "metadata": {},
   "source": [
    "## Julia Essentials"
   ]
  },
  {
   "cell_type": "markdown",
   "metadata": {},
   "source": [
    "Julia tem os tipos básicos d"
   ]
  }
 ],
 "metadata": {
  "kernelspec": {
   "display_name": "Julia 0.6.0-rc2",
   "language": "julia",
   "name": "julia-0.6"
  },
  "language_info": {
   "file_extension": ".jl",
   "mimetype": "application/julia",
   "name": "julia",
   "version": "0.6.0"
  }
 },
 "nbformat": 4,
 "nbformat_minor": 2
}
